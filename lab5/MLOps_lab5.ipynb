{
  "cells": [
    {
      "cell_type": "markdown",
      "source": [
        "# ДЗ №-5 по MLOps"
      ],
      "metadata": {
        "collapsed": false,
        "id": "dd09cc0c0f29b982"
      },
      "id": "dd09cc0c0f29b982"
    },
    {
      "cell_type": "markdown",
      "source": [
        "## Цель задания"
      ],
      "metadata": {
        "collapsed": false,
        "id": "969cab69cf02a513"
      },
      "id": "969cab69cf02a513"
    },
    {
      "cell_type": "markdown",
      "source": [
        "Применить средства автоматизации тестирования python для автоматического тестирования качества работы модели машинного обучения на различных датасетах."
      ],
      "metadata": {
        "collapsed": false,
        "id": "e9943cd2b4c970cc"
      },
      "id": "e9943cd2b4c970cc"
    },
    {
      "cell_type": "markdown",
      "source": [
        "## Содержание задания"
      ],
      "metadata": {
        "collapsed": false,
        "id": "f2f26d9cff09fe11"
      },
      "id": "f2f26d9cff09fe11"
    },
    {
      "cell_type": "markdown",
      "source": [
        "*   Создать три датасета с «качественными данными», на которых можно обучить простую модель линейной регрессии.\n",
        "*   На одном из этих датасетов обучить модель линейной регрессии.\n",
        "*   Создать датасет с шумом в данных.\n",
        "*   Провести тестирование работы модели на разных датасетах с использованием Pytest, анализируя качество предсказания, обнаружить проблему на датасете с шумами."
      ],
      "metadata": {
        "collapsed": false,
        "id": "49826f4f0ae4a5cb"
      },
      "id": "49826f4f0ae4a5cb"
    },
    {
      "cell_type": "markdown",
      "source": [
        "## Import библиотек"
      ],
      "metadata": {
        "collapsed": false,
        "id": "13c9603fe3fc3e6e"
      },
      "id": "13c9603fe3fc3e6e"
    },
    {
      "cell_type": "code",
      "execution_count": 1,
      "id": "initial_id",
      "metadata": {
        "collapsed": true,
        "ExecuteTime": {
          "end_time": "2024-05-07T13:23:22.653134Z",
          "start_time": "2024-05-07T13:23:10.891823Z"
        },
        "colab": {
          "base_uri": "https://localhost:8080/"
        },
        "id": "initial_id",
        "outputId": "e4978953-afa8-48a8-8085-c30f012bf6b7"
      },
      "outputs": [
        {
          "output_type": "stream",
          "name": "stdout",
          "text": [
            "Collecting ipytest\n",
            "  Downloading ipytest-0.14.2-py3-none-any.whl (18 kB)\n",
            "Requirement already satisfied: ipython in /usr/local/lib/python3.10/dist-packages (from ipytest) (7.34.0)\n",
            "Requirement already satisfied: packaging in /usr/local/lib/python3.10/dist-packages (from ipytest) (24.0)\n",
            "Requirement already satisfied: pytest>=5.4 in /usr/local/lib/python3.10/dist-packages (from ipytest) (7.4.4)\n",
            "Requirement already satisfied: iniconfig in /usr/local/lib/python3.10/dist-packages (from pytest>=5.4->ipytest) (2.0.0)\n",
            "Requirement already satisfied: pluggy<2.0,>=0.12 in /usr/local/lib/python3.10/dist-packages (from pytest>=5.4->ipytest) (1.5.0)\n",
            "Requirement already satisfied: exceptiongroup>=1.0.0rc8 in /usr/local/lib/python3.10/dist-packages (from pytest>=5.4->ipytest) (1.2.1)\n",
            "Requirement already satisfied: tomli>=1.0.0 in /usr/local/lib/python3.10/dist-packages (from pytest>=5.4->ipytest) (2.0.1)\n",
            "Requirement already satisfied: setuptools>=18.5 in /usr/local/lib/python3.10/dist-packages (from ipython->ipytest) (67.7.2)\n",
            "Collecting jedi>=0.16 (from ipython->ipytest)\n",
            "  Downloading jedi-0.19.1-py2.py3-none-any.whl (1.6 MB)\n",
            "\u001b[2K     \u001b[90m━━━━━━━━━━━━━━━━━━━━━━━━━━━━━━━━━━━━━━━━\u001b[0m \u001b[32m1.6/1.6 MB\u001b[0m \u001b[31m15.0 MB/s\u001b[0m eta \u001b[36m0:00:00\u001b[0m\n",
            "\u001b[?25hRequirement already satisfied: decorator in /usr/local/lib/python3.10/dist-packages (from ipython->ipytest) (4.4.2)\n",
            "Requirement already satisfied: pickleshare in /usr/local/lib/python3.10/dist-packages (from ipython->ipytest) (0.7.5)\n",
            "Requirement already satisfied: traitlets>=4.2 in /usr/local/lib/python3.10/dist-packages (from ipython->ipytest) (5.7.1)\n",
            "Requirement already satisfied: prompt-toolkit!=3.0.0,!=3.0.1,<3.1.0,>=2.0.0 in /usr/local/lib/python3.10/dist-packages (from ipython->ipytest) (3.0.43)\n",
            "Requirement already satisfied: pygments in /usr/local/lib/python3.10/dist-packages (from ipython->ipytest) (2.16.1)\n",
            "Requirement already satisfied: backcall in /usr/local/lib/python3.10/dist-packages (from ipython->ipytest) (0.2.0)\n",
            "Requirement already satisfied: matplotlib-inline in /usr/local/lib/python3.10/dist-packages (from ipython->ipytest) (0.1.7)\n",
            "Requirement already satisfied: pexpect>4.3 in /usr/local/lib/python3.10/dist-packages (from ipython->ipytest) (4.9.0)\n",
            "Requirement already satisfied: parso<0.9.0,>=0.8.3 in /usr/local/lib/python3.10/dist-packages (from jedi>=0.16->ipython->ipytest) (0.8.4)\n",
            "Requirement already satisfied: ptyprocess>=0.5 in /usr/local/lib/python3.10/dist-packages (from pexpect>4.3->ipython->ipytest) (0.7.0)\n",
            "Requirement already satisfied: wcwidth in /usr/local/lib/python3.10/dist-packages (from prompt-toolkit!=3.0.0,!=3.0.1,<3.1.0,>=2.0.0->ipython->ipytest) (0.2.13)\n",
            "Installing collected packages: jedi, ipytest\n",
            "Successfully installed ipytest-0.14.2 jedi-0.19.1\n"
          ]
        }
      ],
      "source": [
        "!pip install ipytest"
      ]
    },
    {
      "cell_type": "code",
      "execution_count": 2,
      "outputs": [],
      "source": [
        "import numpy as np\n",
        "import pandas as pd\n",
        "from sklearn.model_selection import train_test_split\n",
        "from sklearn.linear_model import LinearRegression\n",
        "from sklearn.metrics import mean_squared_error\n",
        "import ipytest"
      ],
      "metadata": {
        "ExecuteTime": {
          "end_time": "2024-05-07T13:23:26.847232Z",
          "start_time": "2024-05-07T13:23:22.649632Z"
        },
        "id": "1143151c621e1f1"
      },
      "id": "1143151c621e1f1"
    },
    {
      "cell_type": "markdown",
      "source": [
        "### 1. Создание исходного датасета"
      ],
      "metadata": {
        "collapsed": false,
        "id": "b3b6e631c5403c2f"
      },
      "id": "b3b6e631c5403c2f"
    },
    {
      "cell_type": "code",
      "execution_count": 3,
      "outputs": [
        {
          "output_type": "stream",
          "name": "stdout",
          "text": [
            "   Feature_1  Feature_2  Feature_3  Feature_4  Feature_5  Feature_6    Target\n",
            "0   0.374540   0.031429   0.642032   0.051682   0.103124   0.698162  1.689351\n",
            "1   0.950714   0.636410   0.084140   0.531355   0.902553   0.536096  2.785903\n",
            "2   0.731994   0.314356   0.161629   0.540635   0.505252   0.309528  1.770105\n",
            "3   0.598658   0.508571   0.898554   0.637430   0.826457   0.813795  0.887025\n",
            "4   0.156019   0.907566   0.606429   0.726091   0.320050   0.684731  1.206359\n"
          ]
        }
      ],
      "source": [
        "# Установка параметров\n",
        "np.random.seed(42)  # для воспроизводимости результатов\n",
        "num_samples = 100  # количество примеров\n",
        "\n",
        "# Генерация случайных признаков\n",
        "data = {\n",
        "    'Feature_1': np.random.rand(num_samples),\n",
        "    'Feature_2': np.random.rand(num_samples),\n",
        "    'Feature_3': np.random.rand(num_samples),\n",
        "    'Feature_4': np.random.rand(num_samples),\n",
        "    'Feature_5': np.random.rand(num_samples),\n",
        "    'Feature_6': np.random.rand(num_samples),\n",
        "    'Target': np.random.rand(num_samples) * 10  # Целевая переменная, например, цены\n",
        "}\n",
        "\n",
        "# Создание DataFrame\n",
        "df = pd.DataFrame(data)\n",
        "\n",
        "# Показать первые несколько строк DataFrame\n",
        "print(df.head())"
      ],
      "metadata": {
        "ExecuteTime": {
          "end_time": "2024-05-07T13:23:26.970886Z",
          "start_time": "2024-05-07T13:23:26.852644Z"
        },
        "colab": {
          "base_uri": "https://localhost:8080/"
        },
        "id": "e5b6f7aace5deb75",
        "outputId": "3e357525-55c2-4ff8-c07e-03598e4ac8f9"
      },
      "id": "e5b6f7aace5deb75"
    },
    {
      "cell_type": "markdown",
      "source": [
        "### 2. Обучение модели линейной регрессии"
      ],
      "metadata": {
        "collapsed": false,
        "id": "1b30da74e2af6edd"
      },
      "id": "1b30da74e2af6edd"
    },
    {
      "cell_type": "code",
      "execution_count": 4,
      "outputs": [
        {
          "output_type": "stream",
          "name": "stdout",
          "text": [
            "MSE on Test Data: 7.822410653876713\n"
          ]
        }
      ],
      "source": [
        "# Разделение данных на обучающую и тестовую выборку\n",
        "X = df.drop('Target', axis=1)\n",
        "y = df['Target']\n",
        "X_train, X_test, y_train, y_test = train_test_split(X, y, test_size=0.2, random_state=42)\n",
        "\n",
        "# Обучение модели линейной регрессии\n",
        "model = LinearRegression()\n",
        "model.fit(X_train, y_train)\n",
        "\n",
        "# Оценка модели на тестовой выборке\n",
        "predictions = model.predict(X_test)\n",
        "mse = mean_squared_error(y_test, predictions)\n",
        "print(\"MSE on Test Data:\", mse)"
      ],
      "metadata": {
        "ExecuteTime": {
          "end_time": "2024-05-07T13:23:26.973644Z",
          "start_time": "2024-05-07T13:23:26.895798Z"
        },
        "colab": {
          "base_uri": "https://localhost:8080/"
        },
        "id": "53590a56963e17bd",
        "outputId": "56ecccca-0e24-4093-e872-6ebb963e6c09"
      },
      "id": "53590a56963e17bd"
    },
    {
      "cell_type": "markdown",
      "source": [
        "### 3. Создание датасета с шумом"
      ],
      "metadata": {
        "collapsed": false,
        "id": "eeedfc28b802d8b0"
      },
      "id": "eeedfc28b802d8b0"
    },
    {
      "cell_type": "code",
      "execution_count": 5,
      "outputs": [
        {
          "output_type": "stream",
          "name": "stdout",
          "text": [
            "DataFrame with noisy features:\n",
            "   Feature_1  Feature_2  Feature_3  Feature_4  Feature_5  Feature_6    Target\n",
            "0   0.309357   0.036169   0.555990   0.013226   0.203753   0.640473  1.689351\n",
            "1   1.034284   0.523440   0.137120   0.675511   0.655388   0.456407  2.785903\n",
            "2   0.789701   0.294051   0.198743   0.480237   0.513911   0.293960  1.770105\n",
            "3   0.715437   0.534013   0.932314   0.596242   0.777697   0.770539  0.887025\n",
            "4   0.195464   0.865468   0.635407   0.933631   0.407162   0.652129  1.206359\n"
          ]
        }
      ],
      "source": [
        "# Генерация шума для признаков\n",
        "noise_level = 0.1  # Уровень шума\n",
        "feature_noise = np.random.randn(num_samples, 6) * noise_level\n",
        "\n",
        "# Добавление шума к данным\n",
        "noisy_features_data = data.copy()\n",
        "for i in range(1, 7):\n",
        "    noisy_features_data[f'Feature_{i}'] += feature_noise[:, i-1]\n",
        "\n",
        "# Создание DataFrame с шумными признаками\n",
        "df_noisy_features = pd.DataFrame(noisy_features_data)\n",
        "print(\"DataFrame with noisy features:\")\n",
        "print(df_noisy_features.head())\n"
      ],
      "metadata": {
        "ExecuteTime": {
          "end_time": "2024-05-07T13:23:27.035723Z",
          "start_time": "2024-05-07T13:23:26.945902Z"
        },
        "colab": {
          "base_uri": "https://localhost:8080/"
        },
        "id": "5c9c2e2a0869afeb",
        "outputId": "24149365-bd41-4e5d-df99-6bcf4bab8788"
      },
      "id": "5c9c2e2a0869afeb"
    },
    {
      "cell_type": "code",
      "execution_count": 6,
      "outputs": [
        {
          "output_type": "stream",
          "name": "stdout",
          "text": [
            "DataFrame with noisy target:\n",
            "   Feature_1  Feature_2  Feature_3  Feature_4  Feature_5  Feature_6    Target\n",
            "0   0.309357   0.036169   0.555990   0.013226   0.203753   0.640473  1.445194\n",
            "1   1.034284   0.523440   0.137120   0.675511   0.655388   0.456407  3.749991\n",
            "2   0.789701   0.294051   0.198743   0.480237   0.513911   0.293960  2.959575\n",
            "3   0.715437   0.534013   0.932314   0.596242   0.777697   0.770539 -0.340582\n",
            "4   0.195464   0.865468   0.635407   0.933631   0.407162   0.652129  1.803759\n"
          ]
        }
      ],
      "source": [
        "# Генерация шума для целевой переменной\n",
        "target_noise = np.random.randn(num_samples) * noise_level * 10  # Больший шум для целевой переменной\n",
        "\n",
        "# Добавление шума к целевой переменной\n",
        "noisy_target_data = data.copy()\n",
        "noisy_target_data['Target'] += target_noise\n",
        "\n",
        "# Создание DataFrame с шумной целевой переменной\n",
        "df_noisy_target = pd.DataFrame(noisy_target_data)\n",
        "print(\"DataFrame with noisy target:\")\n",
        "print(df_noisy_target.head())\n"
      ],
      "metadata": {
        "ExecuteTime": {
          "end_time": "2024-05-07T13:23:27.263454Z",
          "start_time": "2024-05-07T13:23:26.983529Z"
        },
        "colab": {
          "base_uri": "https://localhost:8080/"
        },
        "id": "832b57b85f4473e",
        "outputId": "348a5b19-6cc2-48e4-fca7-2dc3749e224b"
      },
      "id": "832b57b85f4473e"
    },
    {
      "cell_type": "markdown",
      "source": [
        "### 4. Написание тестов с использованием pytest"
      ],
      "metadata": {
        "collapsed": false,
        "id": "964428a8c4be2185"
      },
      "id": "964428a8c4be2185"
    },
    {
      "cell_type": "code",
      "execution_count": 8,
      "outputs": [
        {
          "output_type": "stream",
          "name": "stdout",
          "text": [
            "\u001b[1m======================================= test session starts ========================================\u001b[0m\n",
            "platform linux -- Python 3.10.12, pytest-7.4.4, pluggy-1.5.0\n",
            "rootdir: /content\n",
            "plugins: anyio-3.7.1\n",
            "collected 2 items\n",
            "\n",
            "t_81b67dc5716c4d7c80e31360fb996e30.py \u001b[32m.\u001b[0m\u001b[31mF\u001b[0m\u001b[31m                                                     [100%]\u001b[0m\n",
            "\n",
            "============================================= FAILURES =============================================\n",
            "\u001b[31m\u001b[1m____________________________________ test_model_on_noisy_target ____________________________________\u001b[0m\n",
            "\n",
            "    \u001b[94mdef\u001b[39;49;00m \u001b[92mtest_model_on_noisy_target\u001b[39;49;00m():\u001b[90m\u001b[39;49;00m\n",
            "        X_noisy_target = df_noisy_target.drop(\u001b[33m'\u001b[39;49;00m\u001b[33mTarget\u001b[39;49;00m\u001b[33m'\u001b[39;49;00m, axis=\u001b[94m1\u001b[39;49;00m)\u001b[90m\u001b[39;49;00m\n",
            "        y_noisy_target = df_noisy_target[\u001b[33m'\u001b[39;49;00m\u001b[33mTarget\u001b[39;49;00m\u001b[33m'\u001b[39;49;00m]\u001b[90m\u001b[39;49;00m\n",
            "        _, X_test_noisy_target, _, y_test_noisy_target = train_test_split(X_noisy_target, y_noisy_target, test_size=\u001b[94m0.2\u001b[39;49;00m, random_state=\u001b[94m42\u001b[39;49;00m)\u001b[90m\u001b[39;49;00m\n",
            "        predictions = model.predict(X_test_noisy_target)\u001b[90m\u001b[39;49;00m\n",
            "        mse = mean_squared_error(y_test_noisy_target, predictions)\u001b[90m\u001b[39;49;00m\n",
            "        \u001b[96mprint\u001b[39;49;00m(\u001b[33m\"\u001b[39;49;00m\u001b[33mMSE on Noisy Target Data:\u001b[39;49;00m\u001b[33m\"\u001b[39;49;00m, mse)\u001b[90m\u001b[39;49;00m\n",
            ">       \u001b[94massert\u001b[39;49;00m mse < \u001b[94m5\u001b[39;49;00m \u001b[90m# тест провален\u001b[39;49;00m\u001b[90m\u001b[39;49;00m\n",
            "\u001b[1m\u001b[31mE       assert 9.953891998916907 < 5\u001b[0m\n",
            "\n",
            "\u001b[1m\u001b[31m<ipython-input-8-e431fdb5f409>\u001b[0m:19: AssertionError\n",
            "--------------------------------------- Captured stdout call ---------------------------------------\n",
            "MSE on Noisy Target Data: 9.953891998916907\n",
            "\u001b[36m\u001b[1m===================================== short test summary info ======================================\u001b[0m\n",
            "\u001b[31mFAILED\u001b[0m t_81b67dc5716c4d7c80e31360fb996e30.py::\u001b[1mtest_model_on_noisy_target\u001b[0m - assert 9.953891998916907 < 5\n",
            "\u001b[31m=================================== \u001b[31m\u001b[1m1 failed\u001b[0m, \u001b[32m1 passed\u001b[0m\u001b[31m in 0.04s\u001b[0m\u001b[31m ====================================\u001b[0m\n"
          ]
        },
        {
          "output_type": "execute_result",
          "data": {
            "text/plain": [
              "<ExitCode.TESTS_FAILED: 1>"
            ]
          },
          "metadata": {},
          "execution_count": 8
        }
      ],
      "source": [
        "ipytest.autoconfig()\n",
        "\n",
        "def test_model_on_noisy_features():\n",
        "    X_noisy_features = df_noisy_features.drop('Target', axis=1)\n",
        "    y_noisy_features = df_noisy_features['Target']\n",
        "    _, X_test_noisy_features, _, y_test_noisy_features = train_test_split(X_noisy_features, y_noisy_features, test_size=0.2, random_state=42)\n",
        "    predictions = model.predict(X_test_noisy_features)\n",
        "    mse = mean_squared_error(y_test_noisy_features, predictions)\n",
        "    print(\"MSE on Noisy Features Data:\", mse)\n",
        "    assert mse > 5 # тест проходит\n",
        "\n",
        "def test_model_on_noisy_target():\n",
        "    X_noisy_target = df_noisy_target.drop('Target', axis=1)\n",
        "    y_noisy_target = df_noisy_target['Target']\n",
        "    _, X_test_noisy_target, _, y_test_noisy_target = train_test_split(X_noisy_target, y_noisy_target, test_size=0.2, random_state=42)\n",
        "    predictions = model.predict(X_test_noisy_target)\n",
        "    mse = mean_squared_error(y_test_noisy_target, predictions)\n",
        "    print(\"MSE on Noisy Target Data:\", mse)\n",
        "    assert mse < 5 # тест провален\n",
        "\n",
        "ipytest.run('-v')\n"
      ],
      "metadata": {
        "ExecuteTime": {
          "end_time": "2024-05-07T13:29:12.241975Z",
          "start_time": "2024-05-07T13:29:12.092049Z"
        },
        "colab": {
          "base_uri": "https://localhost:8080/"
        },
        "id": "9920589033d1e98f",
        "outputId": "c25b2c34-b388-477c-a2bd-e7f663094b4e"
      },
      "id": "9920589033d1e98f"
    },
    {
      "cell_type": "code",
      "execution_count": null,
      "outputs": [],
      "source": [],
      "metadata": {
        "ExecuteTime": {
          "end_time": "2024-05-07T13:23:29.228028Z",
          "start_time": "2024-05-07T13:23:29.159455Z"
        },
        "id": "fbc30c23e5580094"
      },
      "id": "fbc30c23e5580094"
    }
  ],
  "metadata": {
    "kernelspec": {
      "display_name": "Python 3",
      "language": "python",
      "name": "python3"
    },
    "language_info": {
      "codemirror_mode": {
        "name": "ipython",
        "version": 2
      },
      "file_extension": ".py",
      "mimetype": "text/x-python",
      "name": "python",
      "nbconvert_exporter": "python",
      "pygments_lexer": "ipython2",
      "version": "2.7.6"
    },
    "colab": {
      "provenance": []
    }
  },
  "nbformat": 4,
  "nbformat_minor": 5
}